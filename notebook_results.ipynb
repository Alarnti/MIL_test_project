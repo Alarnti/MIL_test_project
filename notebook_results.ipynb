{
 "cells": [
  {
   "cell_type": "code",
   "execution_count": 2,
   "id": "d4676772",
   "metadata": {},
   "outputs": [
    {
     "name": "stderr",
     "output_type": "stream",
     "text": [
      "Global seed set to 42\n"
     ]
    },
    {
     "data": {
      "text/plain": [
       "42"
      ]
     },
     "execution_count": 2,
     "metadata": {},
     "output_type": "execute_result"
    }
   ],
   "source": [
    "import numpy as np\n",
    "import torch\n",
    "from pytorch_lightning import Trainer, seed_everything\n",
    "from pytorch_lightning.callbacks import ModelCheckpoint\n",
    "from src.model import SuperNetMNIST\n",
    "\n",
    "from pprint import pprint\n",
    "\n",
    "import matplotlib.pyplot as plt\n",
    "%matplotlib inline\n",
    "\n",
    "AVAIL_GPUS = min(1, torch.cuda.device_count())\n",
    "\n",
    "\n",
    "SEED = 42\n",
    "seed_everything(SEED, workers=True)\n",
    "\n"
   ]
  },
  {
   "cell_type": "markdown",
   "id": "522f748e",
   "metadata": {},
   "source": [
    "# Training of SuperNet\n",
    "\n",
    "We train a network with uniform sampling from 8 possible architectures\n",
    "\n",
    "1's and 0's mean switching on/off certain nodes in the architecture"
   ]
  },
  {
   "cell_type": "code",
   "execution_count": null,
   "id": "331ca9ee",
   "metadata": {},
   "outputs": [],
   "source": [
    "configurations = ['1010', '1001', '0110', '0101'] # '1101', '0111', '1110', '1011'\n",
    "\n",
    "model = SuperNetMNIST(is_train_mult=True)\n",
    "trainer = Trainer(\n",
    "    gpus=AVAIL_GPUS,\n",
    "    max_epochs=20,\n",
    "    callbacks=[ModelCheckpoint('logs/together')]\n",
    ")\n",
    "trainer.fit(model)\n",
    "\n",
    "results_together = {}\n",
    "for conf in configurations:\n",
    "    model.sample_subnetwork(conf)\n",
    "    results_together[conf] = trainer.test(model)"
   ]
  },
  {
   "cell_type": "code",
   "execution_count": 7,
   "id": "28ac7b58",
   "metadata": {},
   "outputs": [
    {
     "name": "stdout",
     "output_type": "stream",
     "text": [
      "Training gradually together with random uniform choice\n",
      "Checking their accuracy on validation set\n",
      "[('1010', 0.9556999802589417),\n",
      " ('0110', 0.9596999883651733),\n",
      " ('0101', 0.9646999835968018),\n",
      " ('1001', 0.9657999873161316)]\n"
     ]
    }
   ],
   "source": [
    "print('Training gradually together with random uniform choice')\n",
    "print('Checking their accuracy on validation set')\n",
    "results_together_cleaned = {key:value[0][f'{key}_val_acc'] for key, value in results_together.items()}\n",
    "results_together_cleaned = sorted(results_together_cleaned.items(), key=lambda x: x[1])\n",
    "pprint(results_together_cleaned)"
   ]
  },
  {
   "cell_type": "markdown",
   "id": "f11d1933",
   "metadata": {},
   "source": [
    "# Training together result \n",
    "Best subnetwork is the one with 5x5 convolution layers"
   ]
  },
  {
   "cell_type": "markdown",
   "id": "4d75663c",
   "metadata": {},
   "source": [
    "# Training subnetworks separately"
   ]
  },
  {
   "cell_type": "code",
   "execution_count": null,
   "id": "00ec68ad",
   "metadata": {},
   "outputs": [],
   "source": [
    "results_sep = {}\n",
    "for conf in configurations:\n",
    "    model = SuperNetMNIST(is_train_mult=False, flow_solo=conf)\n",
    "    trainer = Trainer(\n",
    "        gpus=AVAIL_GPUS,\n",
    "        max_epochs=20,\n",
    "        callbacks=[ModelCheckpoint(f'logs/separately_{conf}')]\n",
    "    )\n",
    "    trainer.fit(model)\n",
    "    results_sep[conf] = trainer.test(model)"
   ]
  },
  {
   "cell_type": "code",
   "execution_count": 8,
   "id": "5f5c4bda",
   "metadata": {},
   "outputs": [
    {
     "name": "stdout",
     "output_type": "stream",
     "text": [
      "Checking accuracy on validation set of separate subnetworks\n",
      "[('1010', 0.954200029373169),\n",
      " ('0110', 0.9634000062942505),\n",
      " ('0101', 0.9641000032424927),\n",
      " ('1001', 0.9690999984741211)]\n"
     ]
    }
   ],
   "source": [
    "print('Checking accuracy on validation set of separate subnetworks')\n",
    "results_sep_cleaned = {key:value[0][f'{key}_val_acc'] for key, value in results_sep.items()}\n",
    "results_sep_cleaned = sorted(results_sep_cleaned.items(), key=lambda x: x[1])\n",
    "pprint(results_sep_cleaned)"
   ]
  },
  {
   "cell_type": "markdown",
   "id": "d572c218",
   "metadata": {},
   "source": [
    "# Training network from full path '1111'"
   ]
  },
  {
   "cell_type": "code",
   "execution_count": null,
   "id": "a91f0149",
   "metadata": {},
   "outputs": [],
   "source": [
    "configurations = ['1111', '1010', '1001', '0110', '0101']\n",
    "\n",
    "model = SuperNetMNIST(is_train_mult=False, flow_solo='1111')\n",
    "trainer = Trainer(\n",
    "    gpus=AVAIL_GPUS,\n",
    "    max_epochs=20,\n",
    "    callbacks=[ModelCheckpoint('logs/overall')]\n",
    ")\n",
    "trainer.fit(model)\n",
    "\n",
    "results_full = {}\n",
    "for conf in configurations:\n",
    "    model.sample_subnetwork(conf)\n",
    "    results_full[conf] = trainer.test(model)\n"
   ]
  },
  {
   "cell_type": "code",
   "execution_count": 10,
   "id": "86e2f279",
   "metadata": {},
   "outputs": [
    {
     "name": "stdout",
     "output_type": "stream",
     "text": [
      "Checking accuracy on validation set of full network\n",
      "[('1010', 0.45660001039505005),\n",
      " ('0110', 0.5903000235557556),\n",
      " ('0101', 0.8687999844551086),\n",
      " ('1001', 0.8898000121116638),\n",
      " ('1111', 0.972000002861023)]\n"
     ]
    }
   ],
   "source": [
    "print('Checking accuracy on validation set of full network')\n",
    "results_full_cleaned = {key:value[0][f'{key}_val_acc'] for key, value in results_full.items()}\n",
    "results_full_cleaned = sorted(results_full_cleaned.items(), key=lambda x: x[1])\n",
    "pprint(results_full_cleaned)"
   ]
  },
  {
   "cell_type": "markdown",
   "id": "8541a127",
   "metadata": {},
   "source": [
    "# Results:\n",
    "1. 2 top architectures from \"together\" training remain top 2 after separate training\n",
    "2. If we train with full paths 1111, network trains more \"efficient\" paths, more profitable paths are the same as in 1."
   ]
  },
  {
   "cell_type": "markdown",
   "id": "0811c04b",
   "metadata": {},
   "source": [
    "# Further steps:\n",
    "1. Change dataset to something more challenging for architecture search\n",
    "2. Add more paths/subnetworks for a next iteration\n",
    "3. Add not uniformly random but some distribution of \"dropoutness\" during training"
   ]
  }
 ],
 "metadata": {
  "kernelspec": {
   "display_name": "Python 3 (ipykernel)",
   "language": "python",
   "name": "python3"
  },
  "language_info": {
   "codemirror_mode": {
    "name": "ipython",
    "version": 3
   },
   "file_extension": ".py",
   "mimetype": "text/x-python",
   "name": "python",
   "nbconvert_exporter": "python",
   "pygments_lexer": "ipython3",
   "version": "3.8.10"
  }
 },
 "nbformat": 4,
 "nbformat_minor": 5
}
